{
 "cells": [
  {
   "cell_type": "markdown",
   "metadata": {},
   "source": [
    "# Interpret anhand des Songtextes schätzen\n",
    "\n",
    "## Datensatz\n",
    "\n",
    "https://www.kaggle.com/mousehead/songlyrics"
   ]
  },
  {
   "cell_type": "markdown",
   "metadata": {},
   "source": [
    "## Einleitung\n",
    "Es wurde ein Datensatz gewählt, welcher unterschiedliche Interpreten und die dazugehörigen Songtexte beinhaltet. Aus diesem Datensatz soll ein Lerner generiert werden, welcher im Stande ist, Songtexte dem Interpreten zu zuweisen.\n",
    "\n",
    "Big Data besteht zu einem Grossteil aus Textdaten, diese sind stark unstrukturiert. Um signifikante Ergebnisse bei der Analyse zu erzielen, müssen die Daten zuerst prozessiert werden. Als Werkzeug dient das Natural Language Processing, kurz NLP.\n",
    "\n",
    "NLP unterstützt den Benutzer mit verschiedenen Tasks, unteranderem der Feature-Generierung und der Klassifizierung der Texte. NLP ist eine weit verbreitete Art der Datenanalyse und wird  für verschiedenste Anwendungen verwendet, wie Rechtschreibprüfung, personalisierte Werbung, oder Schlüsselwortsuche. Die Werkzeuge befinden sich in der verwendeten Python Natural Language Toolkit Library (NLTK).\n",
    "\n",
    "Anwendungsgebiete des NLP sind Chatbots, Spracherkennung, oder Gefühlsanalyse, wie beispielsweise bei Facebook angewendet. Eine sehr ähnliche Anwendung zu diesem Projekt ist die Applikation Shazam, welche die Möglichkeit bietet laufende Musik zu erkennen. Ein weiteres Beispiel ist die machinelle Übersetzung, hier sind bekannte Anwendungen DeepL und der Google Übersetzer. \n"
   ]
  },
  {
   "cell_type": "markdown",
   "metadata": {},
   "source": [
    "## Zielsetzung\n",
    "Ziel ist es eine möglichst hohe Genauigkeit bei der Ermittlung von Künstlern aus gegebenen Songtexten zu erreichen. "
   ]
  },
  {
   "cell_type": "markdown",
   "metadata": {},
   "source": [
    "## Vorgehensweise\n",
    "\n",
    "Zu Beginn werden die Daten vorbereitet (Preprocessing), dass heisst es werden unnötige Wörter und Textteile entfernt, welche keine brauchbaren Angaben zur Eigenschaft des Textes bieten.\n",
    "\n",
    "NLP beinhaltet zwei Arten der Sprachprozessierung, Natural Language Understanding und Natural Language Generation. In diesem Projekt wird aussschliesslich der Teil der Natural Language Understanding verwendet.\n",
    "\n",
    "Unterteilt wird die NLP in die Tasks \n",
    "- Preprocessing\n",
    "- Feature-Generierung\n",
    "- Klassifikation.\n",
    "\n",
    "Diese Tasks werden sequentiell in einer Pipeline abgearbeitet mittels einem geeigneten Klassifikator.\n",
    "Zum Schluss werden verschiedene Klassifikatoren gegeneinander kreuzvalidiert."
   ]
  },
  {
   "cell_type": "markdown",
   "metadata": {},
   "source": [
    "## Preprocessing\n",
    "Zuerst wird eine kurze explorative Datenanalyse durchgeführt, dann startet das Preprocessing. Die Texte werden in einzelne Wörter geteilt und betrachtet.\n",
    "\n",
    "Drei Schritte des Preprocessing:\n",
    "-\tObject Standardization\n",
    "-\tNoise Removal\n",
    "-\tLexicon Normalization"
   ]
  },
  {
   "cell_type": "markdown",
   "metadata": {},
   "source": [
    "### Explorative Datenanalyse\n",
    "Zuerst wird die Tabelle von unnötigen Spalten befreit."
   ]
  },
  {
   "cell_type": "code",
   "execution_count": 1,
   "metadata": {},
   "outputs": [],
   "source": [
    "import pandas as pd\n",
    "import numpy as np"
   ]
  },
  {
   "cell_type": "code",
   "execution_count": 2,
   "metadata": {},
   "outputs": [
    {
     "data": {
      "text/plain": [
       "643"
      ]
     },
     "execution_count": 2,
     "metadata": {},
     "output_type": "execute_result"
    }
   ],
   "source": [
    "df = pd.read_csv('data/songdata.csv')\n",
    "del df['link']\n",
    "del df['song']\n",
    "len(df['artist'].unique())"
   ]
  },
  {
   "cell_type": "markdown",
   "metadata": {},
   "source": [
    "Einträge mit Künstler \"Unknown\" werden entfernt."
   ]
  },
  {
   "cell_type": "code",
   "execution_count": 3,
   "metadata": {},
   "outputs": [],
   "source": [
    "df = df[df['artist'] != 'Unknown']"
   ]
  },
  {
   "cell_type": "markdown",
   "metadata": {},
   "source": [
    "Künstler mit nur wenigen Songs werden entfernt.\n",
    "\n",
    "Damit die Kreuzvalidierung und das Parameter Tuning nicht zu lange dauern, sind wir hier grosszügig."
   ]
  },
  {
   "cell_type": "code",
   "execution_count": 4,
   "metadata": {},
   "outputs": [
    {
     "data": {
      "text/plain": [
       "18"
      ]
     },
     "execution_count": 4,
     "metadata": {},
     "output_type": "execute_result"
    }
   ],
   "source": [
    "group = df.groupby('artist').size()\n",
    "group = group[group >= 183]\n",
    "#group = group[group >= 150]\n",
    "df = df[[artist in group.index for artist in df['artist']]]\n",
    "len(df['artist'].unique())"
   ]
  },
  {
   "cell_type": "code",
   "execution_count": 5,
   "metadata": {},
   "outputs": [
    {
     "data": {
      "text/html": [
       "<div>\n",
       "<style scoped>\n",
       "    .dataframe tbody tr th:only-of-type {\n",
       "        vertical-align: middle;\n",
       "    }\n",
       "\n",
       "    .dataframe tbody tr th {\n",
       "        vertical-align: top;\n",
       "    }\n",
       "\n",
       "    .dataframe thead th {\n",
       "        text-align: right;\n",
       "    }\n",
       "</style>\n",
       "<table border=\"1\" class=\"dataframe\">\n",
       "  <thead>\n",
       "    <tr style=\"text-align: right;\">\n",
       "      <th></th>\n",
       "      <th>artist</th>\n",
       "      <th>text</th>\n",
       "    </tr>\n",
       "  </thead>\n",
       "  <tbody>\n",
       "    <tr>\n",
       "      <th>361</th>\n",
       "      <td>Alabama</td>\n",
       "      <td>Calling, calling all angels, oh I'm calling, c...</td>\n",
       "    </tr>\n",
       "    <tr>\n",
       "      <th>362</th>\n",
       "      <td>Alabama</td>\n",
       "      <td>I thought it was forever  \\nI thought it would...</td>\n",
       "    </tr>\n",
       "    <tr>\n",
       "      <th>363</th>\n",
       "      <td>Alabama</td>\n",
       "      <td>Somewhere in the mountains......... In norther...</td>\n",
       "    </tr>\n",
       "    <tr>\n",
       "      <th>364</th>\n",
       "      <td>Alabama</td>\n",
       "      <td>By now in New York City, there's snow on the g...</td>\n",
       "    </tr>\n",
       "    <tr>\n",
       "      <th>365</th>\n",
       "      <td>Alabama</td>\n",
       "      <td>All my friends are asking me where I plan to s...</td>\n",
       "    </tr>\n",
       "  </tbody>\n",
       "</table>\n",
       "</div>"
      ],
      "text/plain": [
       "      artist                                               text\n",
       "361  Alabama  Calling, calling all angels, oh I'm calling, c...\n",
       "362  Alabama  I thought it was forever  \\nI thought it would...\n",
       "363  Alabama  Somewhere in the mountains......... In norther...\n",
       "364  Alabama  By now in New York City, there's snow on the g...\n",
       "365  Alabama  All my friends are asking me where I plan to s..."
      ]
     },
     "execution_count": 5,
     "metadata": {},
     "output_type": "execute_result"
    }
   ],
   "source": [
    "df.head()"
   ]
  },
  {
   "cell_type": "markdown",
   "metadata": {},
   "source": [
    "### Object Standardization\n",
    "Strukturelle Informationen werden aus dem Datensatz mittels Regex extrahiert. \n",
    "\n",
    "Gelöschte Texteile:\n",
    "- Zeilenumbrüche \n",
    "- Text in eckigen Klammern \n",
    "- Chorus-Bausteine\n",
    "- Multiplikatoren\n",
    "- Sonderzeichen\n",
    "- Wiederholte Leerzeichen"
   ]
  },
  {
   "cell_type": "code",
   "execution_count": 6,
   "metadata": {},
   "outputs": [],
   "source": [
    "import re\n",
    "def clean(items):\n",
    "    out = []\n",
    "    for text in items:\n",
    "        text = re.sub('[\\n\\r]', ' ', text)             # Zeilenumbrüche\n",
    "        text = re.sub('\\[.*?\\]', '', text)             # Text in []\n",
    "        text = re.sub('[Cc]horus', '', text)           # Chorus\n",
    "        text = re.sub('x[0-9]+', '', text)             # Multiplikator (x5)\n",
    "        text = re.sub('[0-9]+x', '', text)             # Multiplikator (5x)\n",
    "        text = re.sub('[\\\"\\.,!\\?\\-()\\[\\]]', ' ', text) # Sonderzeichen\n",
    "        text = re.sub('\\s+', ' ', text)                # Wiederholte Leerzeichen\n",
    "        out.append(text)\n",
    "    return out"
   ]
  },
  {
   "cell_type": "markdown",
   "metadata": {},
   "source": [
    "### Noise Removal\n",
    "Nicht relevante Informationen aus dem Text sollen entfernt werden. \n",
    "\n",
    "Sogenannter Noise kann mittels Abgleich von einer \"stopwords\"-Liste entfernt werden. In dieser Liste befinden sich Konjunktionen (Bindewörter), URLs oder Links, Hashtags und Verweise, Zeichensetzungen und industriespezifische Wörter. "
   ]
  },
  {
   "cell_type": "code",
   "execution_count": 7,
   "metadata": {},
   "outputs": [],
   "source": [
    "from nltk.corpus import stopwords\n",
    "stoplist = stopwords.words('english')\n",
    "\n",
    "def removeCommonWords(items):\n",
    "    out = []\n",
    "    for text in items:\n",
    "        newText = []\n",
    "        words = text.split()\n",
    "        for word in words:\n",
    "            if word not in stoplist:\n",
    "                newText.append(word)\n",
    "        out.append(' '.join(newText))\n",
    "    return out"
   ]
  },
  {
   "cell_type": "markdown",
   "metadata": {},
   "source": [
    "### Lexicon Normalization\n",
    "\n",
    "Wörter werden mittels Stemming und Lemmatization in ihre Grundform gesetzt, so werden die Texte untereinander vergleichbarer. \n",
    "\n",
    ">__Stemming:__ Worte in seine Grundform (Infinitiv) bringen, so können Texte besser miteinander verglichen werden. (Affected, Affection, Affecting -> Affect)\n",
    "\n",
    ">__Lemmatization:__ Gruppieren von Wörter mit dem gleichen Ursprung (gone, going, went -> go)"
   ]
  },
  {
   "cell_type": "code",
   "execution_count": 8,
   "metadata": {},
   "outputs": [],
   "source": [
    "from nltk.stem.wordnet import WordNetLemmatizer\n",
    "from nltk.corpus import wordnet\n",
    "from nltk.stem.porter import PorterStemmer\n",
    "wnlem = WordNetLemmatizer()\n",
    "pstem = PorterStemmer()\n",
    "\n",
    "def normalizeWords(items):\n",
    "    out = []\n",
    "    for text in items:\n",
    "        newText = []\n",
    "        words = text.split()\n",
    "        for word in words:\n",
    "            word = word.lower()\n",
    "            word = wnlem.lemmatize(word, wordnet.VERB)\n",
    "            word = pstem.stem(word)\n",
    "            newText.append(word)\n",
    "        out.append(' '.join(newText))\n",
    "    return out"
   ]
  },
  {
   "cell_type": "markdown",
   "metadata": {},
   "source": [
    "## Feature Generierung\n",
    "Machine Learning Algorithmen können mit Text nichts anfangen, der Text muss zuerst in Features umgewandelt werden. Es gibt eine Vielzahl von Verfahren um dies zu tun. Als einfaches Beispiel könnte die Wortanzahl oder die mittlere Wortlänge als solch ein Feature verwendet werden. "
   ]
  },
  {
   "cell_type": "markdown",
   "metadata": {},
   "source": [
    "### Wortanzahl"
   ]
  },
  {
   "cell_type": "code",
   "execution_count": 9,
   "metadata": {},
   "outputs": [
    {
     "data": {
      "text/plain": [
       "361    279\n",
       "362    348\n",
       "363    173\n",
       "364    106\n",
       "365    181\n",
       "Name: text, dtype: int64"
      ]
     },
     "execution_count": 9,
     "metadata": {},
     "output_type": "execute_result"
    }
   ],
   "source": [
    "df['text'].apply(lambda t: len(t.split())).head()"
   ]
  },
  {
   "cell_type": "markdown",
   "metadata": {},
   "source": [
    "### Mittlere Wortlänge"
   ]
  },
  {
   "cell_type": "code",
   "execution_count": 10,
   "metadata": {},
   "outputs": [
    {
     "data": {
      "text/plain": [
       "361    3.971326\n",
       "362    3.706897\n",
       "363    5.387283\n",
       "364    5.254717\n",
       "365    4.055249\n",
       "Name: text, dtype: float64"
      ]
     },
     "execution_count": 10,
     "metadata": {},
     "output_type": "execute_result"
    }
   ],
   "source": [
    "df['text'].apply(\n",
    "    lambda t: np.average([len(word) for word in t.split()])).head()"
   ]
  },
  {
   "cell_type": "markdown",
   "metadata": {},
   "source": [
    "### N-Grams\n",
    "\n",
    "Es werden Wörter im Text gruppiert (bigrams, trigrams, etc.). Die Häufigkeit dieser Gruppen im Vergleich zu anderen Texten kann dann für die Auswertung verwendet werden. Die wichtigsten N Grams sind die Bigrams (N = 2).\n"
   ]
  },
  {
   "cell_type": "code",
   "execution_count": 11,
   "metadata": {},
   "outputs": [
    {
     "data": {
      "text/plain": [
       "[['lorem', 'ipsum'], ['ipsum', 'dolor'], ['dolor', 'sit'], ['sit', 'amet']]"
      ]
     },
     "execution_count": 11,
     "metadata": {},
     "output_type": "execute_result"
    }
   ],
   "source": [
    "def generateNGram(text, n):\n",
    "    s = []\n",
    "    words = text.split()\n",
    "    for i in range(len(words)-n+1):\n",
    "        s.append(words[i:i+n])\n",
    "    return s\n",
    "\n",
    "generateNGram('lorem ipsum dolor sit amet', 2) # Bigrams"
   ]
  },
  {
   "cell_type": "markdown",
   "metadata": {},
   "source": [
    "### TF-IDF\n",
    "\n",
    "Dieses Modell wandelt den Text in Vektoren um, die Länge der Vektoren bestimmt sich durch die Häufigkeit des Aufkommens von Wörtern. Die TF IDF ermittelt die relative Wichtigkeit von Wörtern in einem Text."
   ]
  },
  {
   "cell_type": "code",
   "execution_count": 12,
   "metadata": {
    "scrolled": true
   },
   "outputs": [
    {
     "name": "stdout",
     "output_type": "stream",
     "text": [
      "  (0, 1)\t0.34520501686496574\n",
      "  (0, 4)\t0.444514311537431\n",
      "  (0, 2)\t0.5844829010200651\n",
      "  (0, 7)\t0.5844829010200651\n",
      "  (1, 3)\t0.652490884512534\n",
      "  (1, 0)\t0.652490884512534\n",
      "  (1, 1)\t0.3853716274664007\n",
      "  (2, 5)\t0.5844829010200651\n",
      "  (2, 6)\t0.5844829010200651\n",
      "  (2, 1)\t0.34520501686496574\n",
      "  (2, 4)\t0.444514311537431\n"
     ]
    }
   ],
   "source": [
    "from sklearn.feature_extraction.text import TfidfVectorizer \n",
    "\n",
    "print(TfidfVectorizer().fit_transform(\n",
    "    ['this is sample document',\n",
    "     'another random document',\n",
    "     'third sample document text']))"
   ]
  },
  {
   "cell_type": "markdown",
   "metadata": {},
   "source": [
    "### Bag-of-Words\n",
    "\n",
    "Für jeden Text werden alle vorkommenden Wörter notiert, diese Liste kann dan als Grundlage für den Vergleich mit anderen Texten verwendet werden. "
   ]
  },
  {
   "cell_type": "code",
   "execution_count": 13,
   "metadata": {},
   "outputs": [
    {
     "name": "stdout",
     "output_type": "stream",
     "text": [
      "['08', '10', '100', '101', '102', '14', '15', '16', '17', '1792', '18', '19', '1910', '26', '27', '28', '29', '49', '51', '59', '61', '707', '99', 'abandon', 'abandoned', 'abe', 'abel', 'aberdeen', 'abiding', 'able', 'about', 'above', 'abraham', 'abuse', 'acapulco', 'accept', 'accordingly', 'accountant', 'accused', 'ace', 'achieve', 'achin', 'aching', 'acre', 'across', 'act', 'acting', 'acts', 'ad', 'addict', 'address', 'adjust', 'admit', 'adore', 'advance', 'advances', 'advertise', 'advertising', 'advice', 'aeroplane', 'affair', 'affairs', 'affection', 'affirmation', 'afford', 'afraid', 'after', 'aftermath', 'afternoon', 'again', 'against', 'age', 'agents', 'ago', 'agree', 'ah', 'ahead', 'ahold', 'aid', 'aime', 'aimin', 'ain', 'air', 'airport', 'aisles', 'alabama', 'aladdin', 'alive', 'all', 'alla', 'alley', 'alleys', 'alligator', 'allow', 'allowed', 'almighty', 'almost', 'alone', 'along', 'alphabet', 'already', 'alright', 'also', 'altars', 'alters', 'although', 'always', 'am', 'amazing', 'ambassador', 'ambulances', 'america', 'american', 'among', 'amongst', 'amuse', 'amused', 'amusing', 'an', 'analyze', 'ancestors', 'ancient', 'and', 'anew', 'angel', 'angelic', 'angelina', 'angels', 'anger', 'angry', 'anita', 'another', 'answer', 'answered', 'answers', 'ante', 'antone', 'any', 'anybody', 'anyhow', 'anymore', 'anyone', 'anything', 'anytime', 'anyway', 'anywhere', 'apart', 'apollo', 'apologize', 'appearance', 'appeared', 'appears', 'apple', 'apples', 'approached', 'approachin', 'approaching', 'approve', 'approximation', 'apron', 'apt', 'arab', 'are', 'aren', 'argue', 'arise', 'ark', 'arkansas', 'arlington', 'arm', 'armageddon', 'armies', 'armor', 'arms', 'around', 'arrested', 'arrive', 'arrived', 'arrives', 'arrow', 'arrows', 'arthur', 'arts', 'as', 'ash', 'ashamed', 'ashes', 'ashore', 'aside', 'ask', 'asked', 'askin', 'asking', 'asks', 'asleep', 'assistance', 'assured', 'astray', 'at', 'ate', 'atlanta', 'atlantic', 'attached', 'attack', 'attacks', 'attempts', 'attendant', 'attendez', 'attention', 'audience', 'august', 'augustine', 'authorities', 'authority', 'autumn', 'avenging', 'average', 'avoidin', 'aw', 'awake', 'aware', 'away', 'awful', 'awhile', 'awoke', 'babe', 'babies', 'baby', 'back', 'backbone', 'backs', 'backwards', 'bad', 'bade', 'badge', 'baffled', 'bag', 'bagels', 'bags', 'bail', 'baitin', 'balance', 'balcony', 'ball', 'ballot', 'balls', 'ban', 'band', 'bandits', 'banging', 'bank', 'banks', 'banned', 'banners', 'banter', 'bar', 'barbershop', 'barcelona', 'bardot', 'bare', 'barefoot', 'barf', 'bargain', 'bargained', 'bark', 'barking', 'barrel', 'barren', 'barry', 'bars', 'barter', 'baseball', 'basement', 'basket', 'basketball', 'bat', 'bathed', 'baths', 'bats', 'batter', 'battle', 'battlefield', 'battleground', 'bay', 'be', 'beach', 'beads', 'beams', 'bean', 'beanery', 'beans', 'bear', 'beast', 'beat', 'beaten', 'beating', 'beats', 'beaucoup', 'beautiful', 'beauty', 'because', 'become', 'becomes', 'becoming', 'bed', 'beds', 'bee', 'been', 'beer', 'bees', 'before', 'beg', 'began', 'begged', 'begging', 'begin', 'beginning', 'begins', 'begun', 'behind', 'behold', 'bein', 'being', 'believe', 'believed', 'believin', 'believing', 'bell', 'belle', 'bells', 'belong', 'beloved', 'benches', 'bend', 'bended', 'bending', 'bends', 'beneath', 'bent', 'berenda', 'beside', 'besides', 'bessie', 'best', 'bet', 'bethlehem', 'betide', 'betray', 'betrayed', 'bette', 'better', 'between', 'beware', 'bewildered', 'beyond', 'bid', 'big', 'bigger', 'biggest', 'bike', 'bill', 'billboard', 'billy', 'bind', 'bird', 'birdies', 'birds', 'birth', 'birthday', 'bit', 'bitch', 'bitter', 'black', 'blade', 'blades', 'blame', 'blanket', 'blankets', 'blasphemy', 'blast', 'blaze', 'blazin', 'blazing', 'bleachers', 'bleed', 'bleedin', 'bless', 'blessed', 'blew', 'blind', 'blinded', 'blinder', 'blinding', 'blinds', 'blinking', 'bliss', 'blitzen', 'block', 'blonde', 'blood', 'blooded', 'bloodhounds', 'bloody', 'bloom', 'bloomin', 'blooming', 'blow', 'blowed', 'blowin', 'blowing', 'blows', 'blue', 'blueberry', 'blues', 'bo', 'board', 'boards', 'boast', 'boat', 'boats', 'bob', 'bobby', 'bodies', 'body', 'boiler', 'boiling', 'bold', 'bolt', 'bolts', 'bomb', 'bombs', 'bond', 'bone', 'boneeparte', 'bones', 'booby', 'book', 'books', 'boomer', 'boot', 'bootlegged', 'boots', 'booty', 'border', 'borderline', 'bored', 'boredom', 'borgnine', 'born', 'boss', 'both', 'bother', 'bothers', 'bottle', 'bottles', 'bottom', 'bough', 'bought', 'boulevards', 'bound', 'bounty', 'bout', 'boutique', 'bow', 'bowed', 'bowery', 'bowie', 'bowline', 'bowling', 'box', 'boxcar', 'boxing', 'boy', 'boys', 'brace', 'braids', 'brain', 'brakeman', 'brakes', 'branch', 'branches', 'brandy', 'brass', 'brats', 'brave', 'brazos', 'bread', 'break', 'breakin', 'breaking', 'breaks', 'breast', 'breath', 'breathe', 'breathed', 'breathin', 'bred', 'breeze', 'breezes', 'brethren', 'bribes', 'bricks', 'bride', 'bridge', 'bright', 'brightly', 'brightness', 'brigitte', 'brim', 'bring', 'bringin', 'bringing', 'brings', 'broad', 'broadway', 'broke', 'broken', 'brokin', 'bronze', 'brook', 'broom', 'brother', 'brotherhood', 'brothers', 'brought', 'brown', 'bruised', 'brynner', 'bt', 'bubblegum', 'buckets', 'buckles', 'bucks', 'buckshot', 'buddies', 'buddy', 'buffalo', 'bug', 'build', 'builder', 'building', 'builds', 'bulb', 'bull', 'bulldozer', 'bullet', 'bullets', 'bullheads', 'bullshit', 'bully', 'bumbley', 'bummed', 'bummer', 'bums', 'bundle', 'buns', 'burden', 'burger', 'buried', 'burn', 'burned', 'burnin', 'burning', 'burns', 'burton', 'bury', 'buryin', 'bus', 'business', 'businessman', 'businessmen', 'bust', 'busted', 'busting', 'busy', 'but', 'butcher', 'buttermilk', 'button', 'buttoned', 'buttons', 'buy', 'buyin', 'buying', 'buys', 'buzz', 'buzzin', 'buzzing', 'by', 'bye', 'cab', 'cabin', 'cage', 'cain', 'cake', 'calaboose', 'calf', 'californ', 'california', 'call', 'called', 'callin', 'calling', 'calls', 'calm', 'calypso', 'cambridge', 'came', 'camel', 'camp', 'campin', 'can', 'canada', 'canadee', 'candle', 'candy', 'cane', 'cannon', 'cannot', 'canoe', 'cans', 'canvas', 'canyons', 'cape', 'capitol', 'caps', 'captain', 'car', 'card', 'cards', 'care', 'cared', 'carefully', 'cares', 'caress', 'caribbean', 'carmangale', 'carnival', 'carolina', 'carols', 'carpenter', 'carpet', 'carried', 'carries', 'carry', 'carryin', 'carrying', 'cars', 'casanova', 'case', 'cases', 'cash', 'casket', 'cassius', 'cast', 'castles', 'cat', 'catch', 'categorize', 'caterpillars', 'catfish', 'cathedral', 'cats', 'cattle', 'caught', 'cause', 'caused', 'caved', 'caves', 'caviar', 'cease', 'ceiling', 'celebrated', 'celebration', 'cells', 'cent', 'center', 'cents', 'cept', 'ceremony', 'certain', 'certainly', 'cha', 'chain', 'chains', 'chair', 'chalk', 'chamber', 'chambermaid', 'champion', 'chance', 'chances', 'chandelier', 'change', 'changed', 'changes', 'changin', 'changing', 'channel', 'charcoal', 'charge', 'charged', 'chariot', 'charity', 'charles', 'charm', 'charmed', 'charmin', 'charming', 'chase', 'chased', 'chat', 'chaw', 'cheat', 'cheated', 'cheats', 'check', 'cheek', 'cheeks', 'cheer', 'cherished', 'cherry', 'chest', 'chestnut', 'cheyenne', 'chicken', 'chief', 'child', 'childhood', 'children', 'chill', 'chilled', 'chilly', 'chime', 'chimes', 'chin', 'china', 'chinese', 'chipped', 'chitlins', 'choice', 'choices', 'choir', 'choked', 'chokin', 'choose', 'chopped', 'chores', 'chorus', 'chosen', 'christ', 'christmas', 'church', 'cigar', 'cigarette', 'cigars', 'cinderella', 'circle', 'circles', 'circumstances', 'circus', 'cities', 'citizen', 'city', 'clap', 'clark', 'classify', 'claus', 'claws', 'clay', 'clean', 'cleaner', 'clear', 'clerk', 'clicks', 'climb', 'climbin', 'clinging', 'clock', 'clocks', 'close', 'closed', 'closer', 'closest', 'closin', 'cloth', 'clothes', 'clothing', 'clotted', 'cloud', 'clouds', 'clouts', 'clown', 'club', 'clue', 'clutching', 'coagulatin', 'coal', 'coast', 'coat', 'coats', 'cobwebs', 'coca', 'cocaine', 'cock', 'coconut', 'code', 'coffee', 'coffins', 'coil', 'coin', 'coincidence', 'cola', 'cold', 'collar', 'collateral', 'collect', 'collide', 'color', 'colors', 'columbus', 'combat', 'come', 'comedy', 'comes', 'cometh', 'comfort', 'comin', 'coming', 'command', 'commanding', 'commissary', 'commissioner', 'committed', 'common', 'communication', 'companions', 'company', 'compared', 'compass', 'compassion', 'compete', 'complain', 'complainin', 'complains', 'complaint', 'completeness', 'complexion', 'comprehend', 'comrades', 'concealed', 'conceit', 'concerning', 'concertina', 'conclude', 'condemned', 'conductor', 'confess', 'confession', 'confidence', 'confine', 'conformity', 'confuse', 'confused', 'confusion', 'congratulation', 'connect', 'connected', 'connections', 'conscience', 'consciousness', 'consent', 'constant', 'constantly', 'construction', 'contacts', 'contagious', 'contemplatin', 'contemplation', 'content', 'contract', 'control', 'controversy', 'convent', 'conversation', 'cook', 'cool', 'cop', 'copper', 'core', 'corn', 'cornbread', 'corner', 'corners', 'corporal', 'corrina', 'corrupt', 'corruptible', 'cosmic', 'cost', 'cot', 'cotton', 'could', 'couldn', 'coulee', 'councilman', 'count', 'countless', 'countries', 'country', 'county', 'couple', 'courage', 'courageous', 'course', 'court', 'courted', 'courthouse', 'courtin', 'courtroom', 'courtyard', 'cousin', 'cove', 'covenant', 'cover', 'covered', 'cow', 'cowboy', 'coyote', 'cra', 'crack', 'cracked', 'cracking', 'cracks', 'cranes', 'cranny', 'craps', 'crash', 'crashin', 'crashing', 'crave', 'crawl', 'crawled', 'crazy', 'create', 'created', 'creation', 'creative', 'creatures', 'creek', 'creeps', 'crepe', 'crew', 'crib', 'cribs', 'cried', 'cries', 'crime', 'criminals', 'crimson', 'crippled', 'criticize', 'croaking', 'cronkite', 'crooked', 'crooks', 'crooner', 'cross', 'crossed', 'crosses', 'crossin', 'crouched', 'crowd', 'crowded', 'crowds', 'crowing', 'crown', 'crows', 'crucify', 'cruel', 'cruisin', 'crumb', 'crush', 'crutch', 'cry', 'cryin', 'crying', 'crystal', 'cuba', 'cumberland', 'cup', 'cupid', 'curb', 'curbs', 'curdlin', 'cure', 'curfew', 'current', 'cursed', 'cursin', 'curtain', 'curtains', 'curtis', 'curve', 'custom', 'cut', 'cute', 'cuts', 'cutters', 'cyanide', 'cypress', 'daddy', 'daily', 'dakota', 'dam', 'damage', 'dame', 'damn', 'damp', 'damsel', 'dance', 'danced', 'dances', 'dancing', 'dandy', 'danger', 'dangers', 'dangling', 'danny', 'dare', 'dared', 'dark', 'darkest', 'darkness', 'darlin', 'darling', 'date', 'daughter', 'daughters', 'dave', 'davey', 'david', 'davis', 'dawn', 'day', 'daydreamin', 'daylight', 'days', 'dazzling', 'de', 'dead', 'deadline', 'deaf', 'deal', 'dealer', 'dealin', 'deals', 'dean', 'dear', 'dearly', 'death', 'deaths', 'debt', 'debts', 'decadence', 'decay', 'deceived', 'decent', 'decided', 'deck', 'deductible', 'deeds', 'deep', 'deepest', 'deepths', 'defeat', 'defeated', 'defend', 'define', 'defy', 'degree', 'degrees', 'delia', 'delight', 'delilah', 'delivered', 'delusions', 'denied', 'denise', 'denver', 'deny', 'depart', 'department', 'dependin', 'depends', 'deputy', 'descend', 'descended', 'desert', 'deserted', 'design', 'desire', 'desk', 'desolation', 'despair', 'desperate', 'destiny', 'destroy', 'destroyed', 'destruction', 'detail', 'detour', 'detroit', 'deuce', 'devil', 'devilish', 'devils', 'dew', 'diamond', 'diamonds', 'did', 'diddley', 'didn', 'die', 'died', 'dies', 'diesel', 'diff', 'different', 'dig', 'digging', 'dignified', 'dim', 'dime', 'dined', 'ding', 'dinghy', 'dining', 'dinner', 'dinosaurs', 'diploma', 'directed', 'dirt', 'dirty', 'disagree', 'disappear', 'disappearing', 'disapprove', 'discover', 'discreet', 'discuss', 'discussed', 'disease', 'disgrace', 'disguise', 'disguised', 'dishes', 'disintegrate', 'disintegratin', 'dismal', 'dismiss', 'displace', 'display', 'disputes', 'disrobed', 'dissect', 'dissolved', 'distance', 'distant', 'distorted', 'distributing', 'disturb', 'ditch', 'ditches', 'dive', 'divide', 'divided', 'dividing', 'divine', 'division', 'dixie', 'do', 'doctor', 'doctors', 'doctrine', 'dodger', 'does', 'doesn', 'dog', 'dogs', 'doin', 'doing', 'dollar', 'dollars', 'dome', 'don', 'donald', 'done', 'dong', 'donkey', 'doom', 'doomed', 'door', 'doorknob', 'doormat', 'doorpost', 'doors', 'doorway', 'dope', 'double', 'doubled', 'doubt', 'dove', 'dow', 'down', 'downtown', 'dows', 'dozen', 'dr', 'drag', 'dragged', 'dragging', 'dragnets', 'drain', 'drainpipes', 'drank', 'draw', 'drawer', 'drawing', 'drawn', 'dreadful', 'dream', 'dreamed', 'dreamin', 'dreaming', 'dreams', 'dreamt', 'dreary', 'dress', 'dressed', 'dresses', 'dressing', 'drew', 'drift', 'drifted', 'drifter', 'driftin', 'drifting', 'drifts', 'drill', 'drink', 'drinkin', 'drinking', 'drinks', 'drippin', 'drips', 'drive', 'driven', 'driver', 'drives', 'drivin', 'driving', 'drizzling', 'drooping', 'drop', 'dropped', 'drove', 'drown', 'drowning', 'drugs', 'drum', 'drummer', 'drummers', 'drummin', 'drums', 'drumsticks', 'drunk', 'drunkard', 'drunken', 'drunks', 'dry', 'dryin', 'duck', 'ducked', 'due', 'dug', 'dump', 'duquesne', 'dust', 'dusty', 'dwarf', 'dwell', 'dwells', 'dyin', 'dying', 'dylan', 'each', 'ear', 'earlier', 'early', 'earphones', 'ears', 'earth', 'earthly', 'earthquake', 'earthquakes', 'ease', 'eases', 'easily', 'east', 'eastern', 'easy', 'eat', 'eaten', 'eatin', 'eating', 'eats', 'ebony', 'echo', 'ecstasy', 'eden', 'edge', 'editor', 'education', 'effect', 'eight', 'einstein', 'eiron', 'either', 'ekberg', 'el', 'electric', 'elimination', 'eliot', 'elizabeth', 'else', 'elves', 'em', 'embarrass', 'embarrassed', 'embassy', 'embedded', 'emotionally', 'empire', 'employed', 'emptiness', 'empty', 'end', 'ended', 'endless', 'endowed', 'ends', 'endure', 'enemies', 'enemy', 'engage', 'engaged', 'engine', 'engineer', 'engines', 'england', 'english', 'enlist', 'enough', 'enter', 'enthuse', 'er', 'ernest', 'erroll', 'erupted', 'erupting', 'escape', 'escaping', 'especially', 'eternity', 'etiquette', 'eucalyptus', 'ev', 'eve', 'even', 'evening', 'events', 'ever', 'every', 'everybody', 'everyday', 'everyone', 'everything', 'everywhere', 'eves', 'evidently', 'evil', 'evrything', 'exactly', 'exalt', 'except', 'excited', 'excuse', 'excused', 'executioner', 'exist', 'expect', 'expecting', 'experience', 'explain', 'explode', 'exploded', 'explodin', 'exploding', 'explosion', 'expose', 'expressed', 'extending', 'extra', 'eye', 'eyed', 'eyes', 'eyruke', 'ezra', 'fab', 'face', 'faced', 'faceless', 'faces', 'facing', 'fact', 'factory', 'facts', 'fade', 'fades', 'fading', 'fail', 'failures', 'fainting', 'faints', 'fair', 'fairest', 'fairgrounds', 'faith', 'faithful', 'faithfully', 'fake', 'fall', 'fallin', 'falling', 'fallout', 'falls', 'false', 'falsely', 'fame', 'famines', 'famous', 'fan', 'fancy', 'fanning', 'fantasy', 'far', 'fare', 'farewell', 'fargo', 'farm', 'farmer', 'farms', 'fashion', 'fast', 'fastest', 'fat', 'fate', 'fates', 'father', 'fathers', 'fault', 'favor', 'fawn', 'fear', 'fearing', 'fears', 'feast', 'feather', 'feathers', 'fed', 'fee', 'feed', 'feeder', 'feeding', 'feeds', 'feel', 'feelin', 'feeling', 'feelings', 'feels', 'feet', 'fell', 'fella', 'fellows', 'felt', 'fence', 'ferris', 'ferry', 'feudal', 'fever', 'few', 'fez', 'fi', 'fiberglass', 'fiddle', 'fiddler', 'fie', 'field', 'fields', 'fiends', 'fiery', 'fifteen', 'fifth', 'fifty', 'fight', 'fighting', 'figure', 'figured', 'file', 'fill', 'filled', 'filling', 'fills', 'filth', 'fin', 'final', 'finale', 'finalize', 'finally', 'find', 'finding', 'fine', 'finest', 'finger', 'fingers', 'fingertips', 'finish', 'finishes', 'finley', 'fins', 'fire', 'fired', 'fireman', 'first', 'fish', 'fisherman', 'fishermen', 'fist', 'fitzgerald', 'five', 'fix', 'fixed', 'fixin', 'flag', 'flaggin', 'flame', 'flames', 'flaming', 'flannel', 'flap', 'flarin', 'flash', 'flashed', 'flashing', 'flat', 'flattened', 'flea', 'fleas', 'flesh', 'flew', 'flies', 'flight', 'flinch', 'flings', 'flip', 'flipped', 'floatin', 'flogged', 'flood', 'flooding', 'floods', 'floor', 'florida', 'flour', 'flow', 'flowed', 'flower', 'flowers', 'flowin', 'flowing', 'flows', 'flung', 'flute', 'fly', 'flyin', 'flying', 'flynn', 'fo', 'fog', 'foggy', 'foils', 'folded', 'folding', 'folk', 'folks', 'follow', 'followed', 'followin', 'following', 'follows', 'folly', 'folsom', 'food', 'fool', 'foolish', 'fools', 'foot', 'football', 'footed', 'footsteps', 'for', 'forbidden', 'force', 'forced', 'fore', 'forehead', 'foreign', 'foreseen', 'forest', 'forests', 'forethink', 'forever', 'forevermore', 'forget', 'forgetful', 'forgive', 'forgives', 'forgiving', 'forgot', 'forgotten', 'form', 'forms', 'forsake', 'forsaked', 'forsaken', 'forsakened', 'forsaking', 'fort', 'forth', 'fortress', 'fortunately', 'fortune', 'forty', 'forward', 'fought', 'found', 'foundation', 'fountain', 'four', 'fourth', 'fourths', 'frail', 'framed', 'france', 'francisco', 'freak', 'free', 'freed', 'freedom', 'freeze', 'freight', 'french', 'fret', 'friday', 'fried', 'friend', 'friendly', 'friends', 'frighten', 'frightened', 'frightful', 'fringes', 'fro', 'frog', 'from', 'front', 'frost', 'frosty', 'frown', 'froze', 'frozen', 'frustratin', 'fulfill', 'full', 'fully', 'fum', 'fumblin', 'fun', 'funeral', 'funky', 'funniest', 'funny', 'furnace', 'further', 'fury', 'future', 'gable', 'gage', 'gagged', 'gained', 'gal', 'gallant', 'gallantly', 'gallows', 'gallus', 'gamble', 'gambled', 'gambler', 'gamblers', 'gamblin', 'gambling', 'game', 'gang', 'garden', 'gardener', 'garrett', 'gate', 'gates', 'gather', 'gathered', 'gaulle', 'gave', 'gay', 'gaze', 'gazed', 'gazing', 'geek', 'gem', 'genocide', 'gentle', 'gentleman', 'gentlemen', 'george', 'georgia', 'get', 'getcha', 'gets', 'gettin', 'getting', 'ghetto', 'ghost', 'ghosts', 'giant', 'giants', 'gift', 'gifted', 'gin', 'girl', 'girlish', 'girls', 'give', 'given', 'gives', 'giving', 'glad', 'gladly', 'gladness', 'glamor', 'glanced', 'glances', 'glass', 'glasses', 'gleams', 'glides', 'glimpse', 'gloomed', 'glory', 'glove', 'gloves', 'glow', 'glowing', 'go', 'god', 'goddess', 'gods', 'goes', 'goin', 'going', 'gold', 'golden', 'goldsmith', 'goldwater', 'golf', 'gon', 'gone', 'gonna', 'good', 'goodbye', 'goodness', 'goodnight', 'goodwill', 'goose', 'got', 'gotta', 'gotten', 'gown', 'grab', 'grace', 'grain', 'grand', 'granddaddy', 'granddaughter', 'grandeur', 'grandfather', 'grandma', 'grandmother', 'granted', 'grass', 'grasses', 'grateful', 'grave', 'graveyard', 'gravity', 'gray', 'grease', 'greasy', 'great', 'greatest', 'greed', 'greek', 'green', 'greet', 'grey', 'greyhound', 'grieve', 'grieves', 'grievin', 'grin', 'grind', 'grinder', 'grins', 'grip', 'groaned', 'ground', 'grove', 'grow', 'growing', 'growl', 'grown', 'grows', 'gruel', 'guard', 'guardians', 'guards', 'guernsey', 'guess', 'guessed', 'guide', 'guile', 'guilt', 'guilty', 'guineas', 'guitar', 'guitars', 'gull', 'gum', 'gun', 'guns', 'gunshot', 'gut', 'gutter', 'guy', 'gypsies', 'gypsy', 'hacienda', 'had', 'hadn', 'hag', 'hail', 'hair', 'half', 'hall', 'hallway', 'hammering', 'hammers', 'hand', 'handed', 'handful', 'handing', 'handkerchief', 'handle', 'hands', 'handsome', 'handwritten', 'handy', 'hang', 'hanged', 'hangers', 'hangin', 'hanging', 'hangman', 'hangs', 'hannah', 'happen', 'happened', 'happening', 'happens', 'happiness', 'happy', 'harbor', 'hard', 'hardly', 'hardship', 'hark', 'harlem', 'harm', 'harmed', 'harmonicas', 'harmonize', 'harmony', 'harpoons', 'harrison', 'harvard', 'has', 'hasn', 'hat', 'hate', 'hated', 'hates', 'hatful', 'hatred', 'hats', 'haul', 'haunt', 'haunted', 'haunting', 'have', 'haven', 'havin', 'having', 'hazards', 'haze', 'hazel', 'he', 'head', 'headed', 'headin', 'heading', 'heads', 'heal', 'healed', 'health', 'hear', 'heard', 'hearing', 'hears', 'heart', 'heartache', 'hearted', 'hearts', 'heat', 'heave', 'heaven', 'heavenly', 'heavens', 'heavy', 'heavyweight', 'heed', 'heel', 'heeled', 'heels', 'heights', 'heir', 'held', 'helena', 'hell', 'hello', 'help', 'helping', 'henry', 'her', 'herald', 'here', 'hermit', 'hero', 'hers', 'herself', 'hey', 'hi', 'hickory', 'hid', 'hidden', 'hide', 'hiding', 'high', 'higher', 'highest', 'highway', 'highways', 'hill', 'hills', 'him', 'himself', 'hired', 'his', 'hit', 'hitched', 'hmm', 'hobo', 'hocked', 'hog', 'hogs', 'hogshead', 'hold', 'holdin', 'holding', 'holdings', 'hole', 'holes', 'holiday', 'holiness', 'holler', 'hollerin', 'hollers', 'hollis', 'hollow', 'hollywood', 'home', 'homeward', 'honest', 'honey', 'honeymooner', 'honor', 'honors', 'hood', 'hook', 'hoot', 'hop', 'hope', 'hopeless', 'hopes', 'hoping', 'hopped', 'hoppin', 'horizon', 'horner', 'horns', 'horrible', 'horse', 'horses', 'hospital', 'host', 'hot', 'hotel', 'hound', 'hounded', 'hounds', 'hour', 'hours', 'house', 'housetops', 'how', 'howard', 'howl', 'howlin', 'howling', 'hudson', 'huh', 'human', 'humbled', 'humdinger', 'hummed', 'hummin', 'humorless', 'hunchback', 'hundred', 'hung', 'hunger', 'hungry', 'hunt', 'hunter', 'hunters', 'huntin', 'hurried', 'hurt', 'hurtin', 'hurts', 'husband', 'husbands', 'hush', 'hustlers', 'hyena', 'hypnotic', 'ice', 'idea', 'ideas', 'idiot', 'idiots', 'idle', 'idleness', 'idols', 'if', 'il', 'image', 'images', 'imagination', 'immaculately', 'immediately', 'immigrant', 'immortal', 'imperial', 'impossible', 'impressed', 'in', 'inch', 'inclination', 'indecision', 'indeed', 'indication', 'indulgence', 'influenced', 'inhale', 'inherited', 'inmates', 'innocence', 'inquiring', 'insane', 'inside', 'inspect', 'inspire', 'instant', 'instead', 'instincts', 'institution', 'institutions', 'instructions', 'insult', 'insurance', 'integration', 'intend', 'intended', 'intending', 'intentions', 'interest', 'interfere', 'interrupt', 'intimate', 'into', 'intro', 'intrude', 'inventions', 'invited', 'iron', 'ironsides', 'is', 'isis', 'island', 'islanders', 'isle', 'isn', 'it', 'italy', 'itches', 'its', 'itself', 'jack', 'jacket', 'jackie', 'jacks', 'jackson', 'jail', 'jailhouse', 'jails', 'jake', 'jamaican', 'james', 'jangle', 'january', 'jar', 'jaw', 'je', 'jealous', 'jealousy', 'jeans', 'jeep', 'jerusalem', 'jesus', 'jet', 'jewels', 'jig', 'jigger', 'jigsaw', 'jim', 'jingle', 'jingling', 'jiving', 'job', 'joe', 'john', 'johnny', 'join', 'joined', 'joint', 'joke', 'joker', 'jokin', 'joking', 'jolly', 'jones', 'jordan', 'journey', 'joy', 'joyce', 'joyful', 'joys', 'judge', 'judged', 'judges', 'judgment', 'judy', 'jug', 'jugglers', 'juliet', 'jump', 'jumped', 'jumpin', 'june', 'juney', 'jungle', 'juniper', 'junkyard', 'jupiter', 'jury', 'just', 'justice', 'kansas', 'keen', 'keep', 'keeping', 'keeps', 'kennedy', 'kept', 'kerosene', 'kettle', 'key', 'kick', 'kicked', 'kickin', 'kicking', 'kicks', 'kid', 'kidd', 'kids', 'kill', 'killed', 'killer', 'killin', 'kin', 'kind', 'kinda', 'kindly', 'kinds', 'king', 'kingdom', 'kingdoms', 'kings', 'kiss', 'kissed', 'kisses', 'kitchen', 'kite', 'knee', 'kneel', 'kneels', 'knees', 'knelt', 'knew', 'knife', 'knock', 'knocked', 'knockin', 'knocks', 'knot', 'know', 'knowed', 'known', 'knows', 'kong', 'labour', 'lad', 'ladder', 'ladies', 'lads', 'lady', 'laid', 'lakes', 'lamb', 'lame', 'lamp', 'lamppost', 'land', 'landed', 'landing', 'landlord', 'lands', 'lane', 'lanes', 'lapel', 'last', 'lasts', 'late', 'later', 'lathered', 'laugh', 'laughed', 'laughin', 'laughing', 'laughter', 'laundry', 'laurel', 'lava', 'law', 'lawman', 'lawn', 'laws', 'lawyer', 'lawyers', 'lay', 'layin', 'laying', 'lazy', 'lead', 'leader', 'leads', 'leaf', 'leak', 'lean', 'leaned', 'leanin', 'leap', 'leaps', 'learn', 'learned', 'learning', 'leased', 'least', 'leather', 'leave', 'leaves', 'leavin', 'leaving', 'lecherous', 'led', 'ledge', 'left', 'legged', 'legislation', 'legs', 'lemon', 'lend', 'lepers', 'less', 'lesson', 'lessons', 'let', 'letter', 'letters', 'lettin', 'letting', 'levee', 'levels', 'liberal', 'liberty', 'libya', 'licks', 'lie', 'lied', 'lies', 'life', 'lifelessness', 'lifes', 'lifetime', 'lift', 'lifted', 'lifting', 'light', 'lightly', 'lightning', 'lights', 'like', 'liked', 'likes', 'likewise', 'lily', 'limb', 'limbs', 'lime', 'lin', 'line', 'lined', 'lines', 'linger', 'lingered', 'lingers', 'link', 'linkin', 'links', 'lion', 'lips', 'liquor', 'list', 'listen', 'listened', 'listenin', 'listening', 'lit', 'little', 'live', 'lived', 'lives', 'livin', 'living', 'll', 'load', 'loaded', 'loadin', 'loan', 'local', 'loch', 'lock', 'locked', 'locks', 'locl', 'locusts', 'log', 'logs', 'london', 'lone', 'loneliness', 'lonely', 'lonesome', 'long', 'longed', 'longer', 'longin', 'look', 'looked', 'lookin', 'looking', 'lookit', 'looks', 'loom', 'loon', 'loose', 'lord', 'lordy', 'loren', 'lose', 'loser', 'losin', 'losing', 'lost', 'lot', 'lots', 'lotus', 'lou', 'loud', 'louder', 'louie', 'louis', 'louisiana', 'love', 'loved', 'lovelight', 'loveliness', 'lovely', 'lover', 'lovers', 'loves', 'lovin', 'loving', 'low', 'lower', 'loyal', 'loyalty', 'luck', 'luckless', 'lucky', 'luke', 'lullaby', 'lumberjack', 'lumberjacks', 'ly', 'lying', 'ma', 'machine', 'mack', 'mad', 'made', 'madly', 'madonna', 'madrid', 'magic', 'magnificent', 'magnolia', 'mahal', 'maid', 'maiden', 'maidens', 'maids', 'mail', 'mailtrain', 'main', 'majestic', 'make', 'makes', 'makin', 'making', 'male', 'malicious', 'mama', 'man', 'mangled', 'mansion', 'mantelpiece', 'manufactured', 'many', 'marble', 'march', 'marches', 'marching', 'mare', 'marie', 'mark', 'marked', 'marketplace', 'married', 'marry', 'martin', 'martyr', 'martyrs', 'mary', 'mash', 'mask', 'masked', 'masks', 'mast', 'master', 'match', 'mateless', 'matter', 'mauled', 'maw', 'may', 'maybe', 'mayflower', 'mays', 'mcbride', 'mckay', 'mctell', 'me', 'meadow', 'meadows', 'mean', 'meanest', 'meaningless', 'means', 'meant', 'measures', 'meat', 'meddled', 'meddlers', 'meek', 'meet', 'meets', 'melody', 'melt', 'melted', 'member', 'memories', 'memorized', 'memory', 'memphis', 'men', 'mending', 'mention', 'mercedes', 'merchants', 'merciful', 'mercy', 'mermaids', 'merry', 'mess', 'messed', 'messenger', 'met', 'metal', 'mexican', 'mexico', 'miami', 'michigan', 'middle', 'midget', 'midnight', 'midsummer', 'midway', 'might', 'mighty', 'mild', 'mile', 'miles', 'milestone', 'milk', 'millin', 'million', 'millionaire', 'mind', 'minds', 'mine', 'mines', 'mingling', 'mink', 'minnesota', 'minuet', 'minute', 'minutes', 'mirror', 'mirrors', 'mirth', 'misdemeanor', 'miserable', 'misery', 'misfortune', 'mislead', 'misplaced', 'miss', 'missed', 'missin', 'mission', 'missouri', 'mist', 'mistake', 'mister', 'mistitled', 'mistletoe', 'mistreat', 'mistreated', 'mistress', 'misty', 'misused', 'mixed', 'moan', 'moaned', 'moaning', 'moans', 'mock', 'mockingbird', 'molasses', 'molly', 'moment', 'momma', 'mona', 'money', 'moneybags', 'monk', 'monkey', 'monks', 'monsieur', 'monstrous', 'montana', 'monthly', 'mood', 'moon', 'moonbeams', 'moonlight', 'moonlit', 'moons', 'moore', 'morals', 'more', 'morn', 'mornin', 'morning', 'mortal', 'mosquito', 'most', 'moth', 'mother', 'mothers', 'motion', 'motor', 'motorcycle', 'mound', 'mount', 'mountain', 'mountains', 'mountaintop', 'mourn', 'mouse', 'mousey', 'mouth', 'move', 'moved', 'moves', 'movies', 'movin', 'moving', 'mr', 'mrs', 'much', 'mud', 'muddy', 'muggers', 'muh', 'mule', 'mules', 'multitude', 'mumblin', 'murderer', 'muscle', 'museum', 'music', 'must', 'musta', 'mute', 'muttered', 'mutual', 'my', 'myself', 'mysterious', 'mysteriously', 'mystery', 'mystic', 'mystical', 'myth', 'nail', 'nailed', 'nailing', 'naked', 'name', 'named', 'names', 'nancy', 'napalm', 'napoleon', 'napper', 'narrow', 'nassau', 'nasty', 'nations', 'native', 'natural', 'nature', 'near', 'nearer', 'nearest', 'nearing', 'nearly', 'neath', 'necessary', 'neck', 'necklace', 'necktie', 'need', 'needed', 'needing', 'needle', 'needles', 'needs', 'neighbor', 'neighborhood', 'neighbors', 'neither', 'neptune', 'nero', 'nerves', 'nervous', 'nest', 'network', 'never', 'new', 'newborn', 'news', 'newsy', 'next', 'nice', 'nickel', 'nicodemus', 'niece', 'night', 'nightingale', 'nightmare', 'nightmares', 'nighttime', 'nine', 'ninety', 'no', 'noah', 'nobody', 'noise', 'none', 'nook', 'noonday', 'noontime', 'nor', 'north', 'northwest', 'nose', 'nosy', 'not', 'notch', 'note', 'nothin', 'nothing', 'notice', 'noticed', 'noticing', 'notify', 'notre', 'now', 'nowhere', 'nt', 'nude', 'number', 'numbered', 'nurse', 'nursed', 'nursin', 'oak', 'object', 'obligingly', 'obvious', 'obviously', 'ocean', 'oceans', 'odd', 'of', 'off', 'offer', 'offered', 'offers', 'office', 'oft', 'often', 'oh', 'ohio', 'oil', 'okay', 'oklahoma', 'ol', 'old', 'olden', 'omaha', 'on', 'once', 'one', 'ones', 'only', 'onto', 'onward', 'ooh', 'oozing', 'open', 'opened', 'opera', 'ophelia', 'opponents', 'opposite', 'oppression', 'or', 'orbit', 'orchestra', 'ordered', 'ordinary', 'oregon', 'organ', 'organization', 'organizations', 'orleans', 'orphan', 'other', 'others', 'ought', 'our', 'ours', 'ourselves', 'out', 'outa', 'outback', 'outcast', 'outlaw', 'outline', 'outnumbered', 'outrageous', 'outright', 'outside', 'outskirts', 'outta', 'over', 'overboard', 'overflow', 'overflowed', 'overflowin', 'overpower', 'overrules', 'overtake', 'owe', 'owl', 'own', 'owned', 'ownership', 'ownin', 'oxford', 'paces', 'pacific', 'pacing', 'pack', 'packaged', 'packed', 'pages', 'paid', 'pain', 'paine', 'paint', 'painted', 'painter', 'paintin', 'painting', 'pair', 'pairs', 'palace', 'pale', 'pales', 'palm', 'pan', 'panama', 'pants', 'papa', 'parade', 'paradise', 'paranoid', 'parasite', 'pardon', 'parents', 'parked', 'parking', 'parlor', 'part', 'partner', 'parts', 'paso', 'pasquale', 'pass', 'passed', 'passenger', 'passes', 'passin', 'passing', 'passion', 'passionately', 'passport', 'passports', 'past', 'pastures', 'pat', 'path', 'paths', 'patients', 'patron', 'patterns', 'paupers', 'pause', 'pave', 'paved', 'pawn', 'pawned', 'pay', 'payments', 'pays', 'pea', 'peace', 'peach', 'peaches', 'peacock', 'peak', 'peanut', 'pearls', 'pebbles', 'pecos', 'peddlers', 'pedro', 'peeked', 'peeking', 'peel', 'peep', 'pellets', 'pen', 'pencil', 'penitentiary', 'pennsylvania', 'penny', 'people', 'perceive', 'perched', 'perfect', 'perfume', 'peril', 'permission', 'persian', 'person', 'personal', 'perspiration', 'peter', 'petersburg', 'pettiness', 'phaedra', 'phantom', 'philistine', 'phone', 'phones', 'phony', 'pick', 'picked', 'picture', 'pie', 'piece', 'pieces', 'pierce', 'pierced', 'piercing', 'pills', 'pimp', 'pine', 'pink', 'pins', 'pinstripe', 'pint', 'piny', 'pipeline', 'pipes', 'pirates', 'pistol', 'pitch', 'pity', 'pizza', 'place', 'places', 'plague', 'plain', 'plains', 'plait', 'plan', 'plane', 'plans', 'plantations', 'planting', 'plaster', 'plate', 'plates', 'platform', 'play', 'played', 'player', 'playin', 'playing', 'plaza', 'plea', 'pleaded', 'pleading', 'pleasant', 'please', 'pleasure', 'pleasures', 'plenty', 'ploughs', 'plow', 'plowmen', 'plum', 'pocket', 'pockets', 'poem', 'poems', 'poet', 'point', 'pointed', 'points', 'poison', 'poisoning', 'poker', 'pole', 'police', 'politician', 'politics', 'ponder', 'pony', 'pool', 'poor', 'pop', 'pope', 'porous', 'position', 'possessed', 'possessions', 'possible', 'post', 'postcards', 'posters', 'pot', 'pound', 'pounded', 'poundin', 'pounding', 'pour', 'pourin', 'poverty', 'powder', 'power', 'practice', 'praise', 'prancing', 'pranks', 'pray', 'prayed', 'prayer', 'prayers', 'prayet', 'prayin', 'praying', 'preacher', 'preachers', 'preachin', 'precious', 'preoccupied', 'presence', 'presents', 'president', 'press', 'pressure', 'pretend', 'pretendin', 'pretending', 'pretends', 'pretty', 'previous', 'prey', 'price', 'pride', 'priest', 'priests', 'prime', 'prince', 'princes', 'princess', 'prison', 'prisoners', 'prize', 'probably', 'process', 'proclaim', 'profession', 'professors', 'profile', 'progress', 'promise', 'promises', 'promoter', 'proof', 'prophets', 'prospect', 'prostitute', 'protect', 'protected', 'protection', 'protectors', 'proud', 'proudly', 'prove', 'provide', 'psalms', 'pull', 'pulled', 'pullin', 'pulling', 'pulpits', 'pump', 'pumphouse', 'pumpin', 'pumping', 'pumpkin', 'punching', 'punished', 'pup', 'puppets', 'purposes', 'purse', 'pursue', 'pursuit', 'push', 'pushed', 'pushing', 'put', 'puts', 'puttin', 'puzzle', 'pyramids', 'quail', 'quarrel', 'quart', 'quarter', 'quarters', 'queen', 'queens', 'queer', 'question', 'questionin', 'questions', 'quick', 'quicker', 'quickly', 'quiet', 'quit', 'quite', 'quiz', 'race', 'racing', 'rag', 'rage', 'ragin', 'rags', 'ragshag', 'raid', 'railroad', 'rails', 'rain', 'rainbow', 'rainbows', 'rainman', 'rains', 'raise', 'raised', 'rake', 'rambled', 'ramblin', 'rambling', 'rampaged', 'ran', 'rang', 'range', 'ranger', 'rapiers', 'rapper', 'rappin', 'rapping', 'raps', 'rascal', 'raspberry', 'rasputin', 'rat', 'rather', 'rats', 'ray', 'rays', 're', 'reach', 'reached', 'reaching', 'read', 'reading', 'reads', 'ready', 'real', 'reality', 'realized', 'really', 'rearrange', 'reason', 'rebel', 'rebels', 'rebuild', 'recall', 'receive', 'received', 'recent', 'reciting', 'reckless', 'recognize', 'reconciled', 'recover', 'recreation', 'recruits', 'red', 'reduced', 'reeling', 'refinery', 'reflect', 'reflected', 'reflectin', 'reflection', 'refugees', 'refuse', 'refused', 'reggie', 'regret', 'regulation', 'reindeer', 'reins', 'reject', 'rejoice', 'relationships', 'released', 'relief', 'religion', 'remain', 'remains', 'remember', 'remembers', 'remind', 'reminder', 'remnants', 'removes', 'rence', 'rendezvous', 'renegade', 'renewed', 'reno', 'repaid', 'repeat', 'repeated', 'repentance', 'repine', 'replaced', 'replay', 'reply', 'report', 'reprobate', 'require', 'research', 'resign', 'respect', 'respected', 'rest', 'restaurant', 'restin', 'restless', 'restraint', 'retired', 'retreating', 'return', 'returned', 'returning', 'revenge', 'reward', 'rhyme', 'rhymed', 'rhythm', 'ribs', 'ric', 'rich', 'richard', 'richer', 'riches', 'rid', 'ride', 'riden', 'riders', 'rides', 'ridin', 'riding', 'right', 'righteous', 'rightful', 'rightoned', 'riled', 'rin', 'ring', 'ringer', 'ringin', 'ringing', 'rings', 'rio', 'riot', 'ripped', 'ripping', 'rips', 'rise', 'risin', 'rising', 'risk', 'river', 'rivers', 'riverside', 'road', 'roads', 'roadside', 'roam', 'roamin', 'roar', 'roared', 'roaring', 'rob', 'robbed', 'robbery', 'robe', 'robert', 'robin', 'rock', 'rockefeller', 'rocks', 'rocky', 'rode', 'roll', 'rolled', 'rollin', 'rolling', 'rolls', 'roman', 'romantic', 'romeo', 'roof', 'rooftoops', 'room', 'rooms', 'rooster', 'rope', 'ropes', 'rose', 'roses', 'rot', 'rotted', 'rotten', 'roulette', 'round', 'rounder', 'rounders', 'rounds', 'route', 'rovin', 'roving', 'row', 'rowdy', 'rowing', 'royce', 'rub', 'rugged', 'ruin', 'ruins', 'rule', 'rules', 'rum', 'run', 'rung', 'runnin', 'running', 'runs', 'runway', 'rush', 'russian', 'russians', 'rusted', 'rusty', 'ry', 'rybody', 'ryone', 'rything', 'sacks', 'sacred', 'sad', 'saddle', 'sadie', 'safe', 'said', 'sail', 'sailin', 'sailing', 'sailor', 'sailors', 'sails', 'saint', 'saints', 'sale', 'salooning', 'salt', 'salvation', 'sam', 'samaritan', 'same', 'sampson', 'san', 'sand', 'sands', 'sang', 'sank', 'santa', 'sat', 'satan', 'satins', 'satisfied', 'saturday', 'saucy', 'saud', 'sauna', 'savage', 'save', 'saved', 'saviors', 'saw', 'sawed', 'saws', 'saxophone', 'saxophones', 'say', 'sayin', 'saying', 'says', 'scapegoat', 'scarce', 'scarcely', 'scare', 'scarecrow', 'scared', 'scarf', 'scars', 'scary', 'scattered', 'scene', 'scenes', 'schmidt', 'school', 'scientist', 'score', 'scorn', 'scott', 'scrambling', 'scream', 'screamed', 'screaming', 'screams', 'screen', 'screws', 'scrub', 'scruples', 'sea', 'seaport', 'search', 'searchin', 'searching', 'seas', 'seasick', 'seaside', 'season', 'seasons', 'seattle', 'second', 'secret', 'secretly', 'security', 'see', 'seed', 'seein', 'seeing', 'seek', 'seeking', 'seem', 'seeming', 'seems', 'seen', 'sees', 'select', 'self', 'sell', 'selling', 'sells', 'selma', 'senators', 'send', 'sending', 'sends', 'senile', 'senorita', 'sense', 'senses', 'sensitive', 'sent', 'sentimental', 'separate', 'separated', 'separation', 'sergeant', 'servant', 'servants', 'serve', 'service', 'set', 'sets', 'setting', 'seven', 'seventh', 'seventy', 'sew', 'sexless', 'shack', 'shade', 'shadow', 'shadows', 'shadowy', 'shake', 'shakin', 'shaking', 'shall', 'shame', 'shanty', 'shape', 'shaped', 'shapeth', 'share', 'shared', 'sharkskin', 'sharon', 'sharp', 'shatter', 'shattered', 'shaved', 'shaven', 'shaver', 'shawl', 'she', 'shed', 'sheds', 'sheets', 'shelf', 'shells', 'shels', 'shelter', 'shelves', 'shepherd', 'sheriff', 'shield', 'shift', 'shillelagh', 'shine', 'shined', 'shines', 'shinin', 'shining', 'ship', 'ships', 'shirt', 'shirts', 'shit', 'shivers', 'shock', 'shoe', 'shoeless', 'shoes', 'shoestrings', 'shook', 'shoot', 'shooter', 'shooting', 'shop', 'shopping', 'shore', 'shores', 'short', 'shortgun', 'shorts', 'shot', 'shotgun', 'shots', 'should', 'shoulda', 'shoulders', 'shout', 'shouting', 'shove', 'shovel', 'show', 'showdown', 'showed', 'shower', 'shown', 'shows', 'shreds', 'shrine', 'shuffled', 'shun', 'shut', 'shy', 'siamese', 'sicilian', 'sick', 'side', 'sides', 'sideways', 'sigh', 'sighing', 'sighs', 'sight', 'sign', 'signs', 'silence', 'silent', 'silhouetted', 'silk', 'silks', 'silky', 'sill', 'silver', 'simplify', 'simply', 'sin', 'since', 'sing', 'singer', 'singers', 'singin', 'singing', 'single', 'sings', 'sinkin', 'sinners', 'sins', 'sir', 'sister', 'sisters', 'sit', 'sits', 'sittin', 'sitting', 'situations', 'six', 'sixteen', 'sized', 'skid', 'skies', 'skin', 'skinny', 'skipped', 'skirt', 'skull', 'skunk', 'sky', 'skyway', 'slain', 'slam', 'slaughter', 'slave', 'slavery', 'sleep', 'sleepin', 'sleeping', 'sleeps', 'sleeve', 'sleigh', 'slept', 'slide', 'slinkin', 'slip', 'slipped', 'slits', 'slow', 'slowly', 'sluggers', 'slumber', 'slums', 'smart', 'smell', 'smelled', 'smelling', 'smile', 'smiled', 'smiles', 'smiling', 'smith', 'smog', 'smoke', 'smoked', 'smokestack', 'smoking', 'smoky', 'snake', 'snappy', 'snare', 'sneakers', 'sneakin', 'sniffing', 'snow', 'snowflakes', 'so', 'socialite', 'society', 'soft', 'softest', 'sold', 'soldier', 'soldiers', 'solemnly', 'solid', 'solitude', 'some', 'somebody', 'someday', 'somehow', 'someone', 'someplace', 'somersault', 'somethin', 'something', 'somethings', 'sometime', 'sometimes', 'somewhere', 'son', 'song', 'songs', 'sons', 'soon', 'sooner', 'sophia', 'sorority', 'sorrow', 'sorry', 'soul', 'soulful', 'souls', 'sound', 'sounding', 'sounds', 'south', 'southbound', 'southern', 'southside', 'soviet', 'sowed', 'spa', 'space', 'spaces', 'spades', 'spanish', 'spared', 'spark', 'sparrow', 'speak', 'speaking', 'special', 'specially', 'speculation', 'speech', 'speechless', 'speed', 'speedier', 'speeding', 'spell', 'spellbound', 'spend', 'spends', 'spent', 'spice', 'spied', 'spikes', 'spill', 'spilling', 'spin', 'spiral', 'spirals', 'spirit', 'spiritual', 'spit', 'splattered', 'spleen', 'splendor', 'split', 'spoiling', 'spoke', 'spoken', 'spoon', 'sports', 'spot', 'spots', 'spotted', 'spread', 'spreadin', 'spreading', 'spree', 'spring', 'springs', 'springtime', 'sprung', 'spun', 'squad', 'squall', 'square', 'squattin', 'squeals', 'squints', 'squire', 'st', 'stab', 'stabbin', 'stabbing', 'stacked', 'stadium', 'stage', 'stained', 'stainless', 'staircase', 'stairs', 'stake', 'stalk', 'stall', 'stand', 'standin', 'standing', 'stands', 'star', 'stardust', 'stared', 'stark', 'starry', 'stars', 'start', 'started', 'starting', 'starts', 'starve', 'starved', 'state', 'staten', 'statue', 'stay', 'stayed', 'stead', 'steadily', 'steady', 'steal', 'stealing', 'steam', 'steamboat', 'steel', 'steeple', 'stein', 'step', 'stepped', 'stepping', 'steps', 'stevenson', 'stick', 'sticks', 'still', 'stir', 'stirring', 'stitches', 'stocking', 'stockings', 'stole', 'stolen', 'stomp', 'stone', 'stones', 'stood', 'stop', 'stopped', 'stopping', 'store', 'stories', 'storm', 'stormy', 'story', 'stove', 'straight', 'straightaway', 'straightened', 'stranded', 'strange', 'stranger', 'strangers', 'strangle', 'strangling', 'strapped', 'strawberry', 'stray', 'streaking', 'stream', 'streams', 'street', 'streets', 'strength', 'stretchin', 'strife', 'strike', 'strikes', 'striking', 'string', 'strings', 'strip', 'stripes', 'stripped', 'strive', 'stroll', 'strollin', 'strong', 'strongarm', 'struck', 'struggling', 'strung', 'strut', 'stuck', 'stucked', 'stud', 'studded', 'study', 'stuff', 'stumble', 'stumbled', 'stump', 'stupid', 'style', 'subpoena', 'succeeding', 'such', 'suckling', 'sudden', 'suddenly', 'suffer', 'suffered', 'sufferin', 'suffering', 'sugar', 'suicide', 'suit', 'suitcase', 'suits', 'summer', 'summertime', 'sun', 'sunday', 'sundown', 'sung', 'sunglasses', 'sunken', 'sunlit', 'sunny', 'sunshine', 'sup', 'superfluous', 'superhuman', 'supper', 'suppose', 'supposed', 'sure', 'surely', 'surface', 'surprise', 'surprises', 'surrendered', 'surrendering', 'surrenders', 'surrounding', 'surrounds', 'survive', 'suspended', 'sustain', 'suzette', 'swallowed', 'swallower', 'swamp', 'sway', 'swayed', 'swear', 'swears', 'sweat', 'sweep', 'sweepin', 'sweeping', 'sweet', 'sweetest', 'sweetheart', 'sweetly', 'sweetness', 'swept', 'swift', 'swiftly', 'swimmin', 'swing', 'swinging', 'swirling', 'swiss', 'switch', 'switches', 'swoon', 'swooping', 'sword', 'swords', 'symphony', 'table', 'taboo', 'tackle', 'tacks', 'tail', 'tailor', 'tails', 'taj', 'take', 'taken', 'takes', 'taketh', 'takin', 'taking', 'talahassee', 'tale', 'tales', 'talk', 'talkers', 'talkin', 'talking', 'tall', 'tame', 'tamed', 'tan', 'tangier', 'tangled', 'tangos', 'tank', 'tanks', 'taos', 'tapestry', 'tapped', 'tappin', 'task', 'taste', 'tasted', 'tattoo', 'tattooed', 'taught', 'tax', 'taxi', 'taylor', 'tea', 'teach', 'teacher', 'teacheth', 'team', 'tear', 'tearing', 'tears', 'teddy', 'tedious', 'teeth', 'telephone', 'telephones', 'television', 'tell', 'teller', 'tellin', 'telling', 'tells', 'tempation', 'temper', 'temples', 'temptation', 'ten', 'tender', 'tennessee', 'tennis', 'tents', 'terms', 'terrible', 'terrified', 'terror', 'terry', 'test', 'texas', 'text', 'than', 'thank', 'thanks', 'that', 'the', 'theater', 'thee', 'their', 'theirs', 'them', 'theme', 'themselves', 'then', 'there', 'therefore', 'these', 'they', 'thief', 'thieves', 'thin', 'thing', 'things', 'think', 'thinkin', 'thinking', 'third', 'thirtieth', 'this', 'those', 'though', 'thought', 'thoughts', 'thousand', 'thread', 'threads', 'three', 'threw', 'thrill', 'throat', 'throne', 'through', 'throw', 'thrown', 'throws', 'thruway', 'thumbs', 'thumpin', 'thunder', 'thunk', 'tick', 'ticket', 'tickets', 'tickin', 'tickle', 'tickles', 'tide', 'tie', 'tied', 'ties', 'tight', 'tightening', 'til', 'till', 'tilted', 'time', 'timeless', 'times', 'timin', 'timmy', 'tin', 'tingles', 'tinsel', 'tiny', 'tip', 'tis', 'titanic', 'to', 'tobacco', 'today', 'toe', 'toes', 'together', 'toil', 'toiling', 'tol', 'told', 'toll', 'tolling', 'tom', 'tomb', 'tombstones', 'tomorrow', 'tone', 'tongue', 'tongues', 'tonight', 'tonto', 'too', 'took', 'toole', 'tools', 'tooth', 'toothache', 'top', 'torn', 'tortures', 'tossed', 'tossin', 'totally', 'totin', 'touch', 'touched', 'tough', 'towards', 'tower', 'town', 'towns', 'toys', 'trace', 'track', 'tracks', 'traffic', 'tragic', 'trail', 'trailer', 'trailers', 'train', 'trains', 'tramp', 'trampled', 'tramples', 'trance', 'tranquility', 'trapped', 'trapper', 'traps', 'trav', 'travel', 'traveled', 'travelin', 'traveling', 'trck', 'treacherous', 'treasure', 'treat', 'treated', 'treaties', 'tree', 'trees', 'trembles', 'trembling', 'tressles', 'trial', 'trials', 'triangle', 'tribes', 'tricks', 'tried', 'trigger', 'trill', 'trip', 'tripped', 'triumph', 'trooper', 'trouble', 'troubles', 'truck', 'trucks', 'true', 'truly', 'trumpet', 'trunk', 'trust', 'trusting', 'trusty', 'truth', 'truthful', 'truths', 'try', 'tryin', 'trying', 'tub', 'tuggin', 'tularosa', 'tumbled', 'tune', 'tunnels', 'turk', 'turn', 'turned', 'turneth', 'turnin', 'turning', 'turns', 'turquoise', 'tuxedo', 'tv', 'twelfth', 'twelve', 'twenty', 'twice', 'twilight', 'twins', 'twist', 'twists', 'two', 'type', 'ugly', 'uh', 'umpire', 'unarmed', 'unborn', 'uncertainty', 'uncle', 'under', 'underdog', 'underestimate', 'underneath', 'understand', 'understood', 'undertaker', 'undone', 'unending', 'unexpectedly', 'unfinished', 'unharmful', 'union', 'unique', 'unite', 'united', 'universe', 'universities', 'university', 'unkind', 'unknown', 'unlearn', 'unless', 'unload', 'unloadin', 'unlock', 'unnoticed', 'unpawned', 'unpleasant', 'unraveled', 'unraveling', 'unrecognized', 'unspoiled', 'untie', 'until', 'unto', 'untrodden', 'unusual', 'up', 'upon', 'upright', 'upside', 'upstairs', 'uptight', 'uptighten', 'upward', 'us', 'use', 'used', 'useful', 'uses', 'utah', 'utmost', 'utopian', 'uttered', 'uttering', 'vacancies', 'vagabond', 'vague', 'vain', 'valentino', 'valley', 'vamp', 'vanish', 'vanished', 'vast', 've', 'veil', 'vengeance', 'veranda', 'version', 'very', 'vest', 'vice', 'victim', 'victims', 'view', 'views', 'village', 'vine', 'violence', 'violin', 'vipers', 'virtue', 'visions', 'vixen', 'voice', 'voices', 'volcano', 'von', 'vote', 'votin', 'vous', 'vows', 'wading', 'wagged', 'wagging', 'wagon', 'wail', 'wailing', 'waist', 'wait', 'waited', 'waiter', 'waitin', 'waiting', 'waits', 'wake', 'wakes', 'waking', 'walk', 'walked', 'walker', 'walkin', 'walking', 'walks', 'wall', 'walls', 'wand', 'wander', 'wandered', 'wandering', 'wanna', 'want', 'wanted', 'wantin', 'wants', 'war', 'warm', 'warned', 'warnin', 'warning', 'warriors', 'wars', 'was', 'wash', 'washed', 'washing', 'washington', 'wasn', 'waste', 'wasted', 'wastin', 'watch', 'watched', 'watchin', 'watching', 'watchtower', 'water', 'watermelon', 'waters', 'watery', 'wave', 'waves', 'waxed', 'way', 'waylaid', 'ways', 'we', 'weak', 'weakened', 'weakness', 'wealth', 'wear', 'wearin', 'wearing', 'wears', 'weary', 'weather', 'weathered', 'weave', 'weaves', 'wed', 'wedding', 'wee', 'weeds', 'week', 'weeks', 'weep', 'weeped', 'weepin', 'weeping', 'weeps', 'weighs', 'weight', 'weird', 'welfare', 'well', 'went', 'wept', 'were', 'weren', 'west', 'western', 'westward', 'wet', 'whale', 'what', 'whatever', 'wheat', 'wheel', 'wheelchair', 'wheeled', 'wheels', 'wheezin', 'when', 'whene', 'whenever', 'where', 'wheresoever', 'wherever', 'whether', 'which', 'while', 'whine', 'whined', 'whinin', 'whining', 'whip', 'whipped', 'whips', 'whirling', 'whiskey', 'whisper', 'whisperin', 'whispering', 'whistle', 'whistles', 'whistlin', 'white', 'who', 'whoever', 'whole', 'wholly', 'whom', 'whore', 'whores', 'whose', 'why', 'wichita', 'wicked', 'wide', 'wider', 'wife', 'wig', 'wiggled', 'wild', 'wildcat', 'wilderness', 'wildflowers', 'will', 'williams', 'willie', 'willin', 'willing', 'willow', 'willy', 'win', 'wind', 'winding', 'window', 'windows', 'winds', 'wine', 'wings', 'wink', 'winked', 'wins', 'winter', 'wintertime', 'wintry', 'wire', 'wisconsin', 'wise', 'wish', 'wishes', 'wishin', 'wishing', 'witches', 'with', 'within', 'without', 'wives', 'wobbled', 'woe', 'woke', 'wolf', 'wolves', 'woman', 'women', 'won', 'wond', 'wonder', 'wonderin', 'wondering', 'wondrous', 'wont', 'wood', 'wooden', 'woods', 'woodshed', 'word', 'words', 'wore', 'work', 'worked', 'worker', 'workin', 'working', 'works', 'world', 'worn', 'worr', 'worried', 'worry', 'worse', 'worship', 'worshipping', 'worst', 'worth', 'worthy', 'would', 'wouldn', 'wound', 'wounded', 'wounds', 'wowee', 'wrap', 'wrapped', 'wreck', 'wrench', 'wretched', 'wrist', 'write', 'writes', 'writing', 'written', 'wrong', 'wrote', 'ya', 'yankees', 'yard', 'ye', 'yeah', 'year', 'yearnin', 'yearning', 'years', 'yell', 'yelled', 'yellin', 'yellow', 'yells', 'yes', 'yesterday', 'yesteryear', 'yet', 'yield', 'yippee', 'yon', 'yonder', 'yore', 'york', 'you', 'young', 'younger', 'your', 'yours', 'yourself', 'youthful', 'yul', 'yule', 'zimmy', 'zone', 'zy']\n"
     ]
    }
   ],
   "source": [
    "from sklearn.feature_extraction.text import CountVectorizer\n",
    "\n",
    "vectorizer = CountVectorizer()\n",
    "vectorizer.fit_transform(df[df['artist'] == 'Bob Dylan']['text'])\n",
    "# Alle Wörter die vom Interpret \"Bob Dylan\" verwendet werden:\n",
    "print(vectorizer.get_feature_names()) "
   ]
  },
  {
   "cell_type": "markdown",
   "metadata": {},
   "source": [
    "### Bag-of-N-grams\n",
    "Hier gilt das gleiche Prinzip wie bei Bag of Words, mit dem Unterschied, dass hier vorkommende N-Grams verglichen werden."
   ]
  },
  {
   "cell_type": "code",
   "execution_count": 14,
   "metadata": {},
   "outputs": [
    {
     "data": {
      "text/plain": [
       "{'an': 0,\n",
       " 'apple': 3,\n",
       " 'day': 7,\n",
       " 'keeps': 12,\n",
       " 'the': 15,\n",
       " 'doctor': 10,\n",
       " 'away': 6,\n",
       " 'an apple': 1,\n",
       " 'apple day': 4,\n",
       " 'day keeps': 8,\n",
       " 'keeps the': 13,\n",
       " 'the doctor': 16,\n",
       " 'doctor away': 11,\n",
       " 'an apple day': 2,\n",
       " 'apple day keeps': 5,\n",
       " 'day keeps the': 9,\n",
       " 'keeps the doctor': 14,\n",
       " 'the doctor away': 17}"
      ]
     },
     "execution_count": 14,
     "metadata": {},
     "output_type": "execute_result"
    }
   ],
   "source": [
    "from sklearn.feature_extraction.text import CountVectorizer\n",
    "\n",
    "c_vec = CountVectorizer(ngram_range=(1, 3))\n",
    "c_vec.fit([\"an apple a day keeps the doctor away\"]).vocabulary_"
   ]
  },
  {
   "cell_type": "markdown",
   "metadata": {},
   "source": [
    "## Pipeline\n",
    "Die Pipeline besteht aus einer Liste (Name, Transformation), in welcher die einzelnen Einträge der Reihe nach abgearbeitet werden, in diesem Fall folgt zuerst das Preprozessing, dann die Feature-Generierung und zum Schluss die Klassifikation, welche die vorprozessierten Daten mittels den generierten Features abarbeitet. \n",
    "\n",
    "Die Klassifizierung besteht aus einem Lerner und einer Prediction. Dem Lerner werden 80 Prozent der Daten zur Verfügung gestellt. Dieser lernt dann mit den generierten Features und nutzt die Prediction mit den restlichen 20 Prozent, um eine Schätzung abzugeben."
   ]
  },
  {
   "cell_type": "code",
   "execution_count": 15,
   "metadata": {},
   "outputs": [],
   "source": [
    "from sklearn.base import TransformerMixin\n",
    "\n",
    "class Preprocessor(TransformerMixin):\n",
    "    def transform(self, X, **transform_params):\n",
    "        X = clean(X)\n",
    "        # Auskommentiert um die Berechnungen zu beschleunigen\n",
    "        #X = removeCommonWords(X)\n",
    "        #X = normalizeWords(X)\n",
    "        return X\n",
    "\n",
    "    def fit(self, X, y=None, **fit_params):\n",
    "        return self"
   ]
  },
  {
   "cell_type": "code",
   "execution_count": 16,
   "metadata": {},
   "outputs": [],
   "source": [
    "from sklearn.pipeline import Pipeline\n",
    "from sklearn.feature_extraction.text import TfidfVectorizer\n",
    "from sklearn.neighbors import KNeighborsClassifier\n",
    "\n",
    "Pipeline([\n",
    "    ('pre', Preprocessor()),\n",
    "\n",
    "    # feature generation\n",
    "    ('tfidf', TfidfVectorizer()),\n",
    "    \n",
    "    # classification\n",
    "    ('knn', KNeighborsClassifier()),\n",
    "]);"
   ]
  },
  {
   "cell_type": "markdown",
   "metadata": {},
   "source": [
    "## Train-data, Target-data\n",
    "Das Lernen und das Testen einer Funktion darf nicht mit den selben Daten geschehen, ein Modell, dass nur mit der Stichprobe getestet wird, kann nicht falsch liegen."
   ]
  },
  {
   "cell_type": "code",
   "execution_count": 17,
   "metadata": {},
   "outputs": [],
   "source": [
    "from sklearn.model_selection import train_test_split\n",
    "\n",
    "X=df['text'].values\n",
    "y=df['artist'].values\n",
    "\n",
    "X_train, X_test, y_train, y_test = train_test_split(X, y, test_size=0.2)"
   ]
  },
  {
   "cell_type": "markdown",
   "metadata": {},
   "source": [
    "## No Free Lunch / Kreuzvalidierung\n",
    "\n",
    "Mittels Kreuzvalidierung können die einzelnen Klassifikatoren und Feature Generatoren untereinander verglichen werden.\n",
    "\n",
    ">Klassifikatoren:\n",
    "- __SGDClassifier:__ (stochastic gradient descent) Nützlich bei hoher Anzahl Samples und Features\n",
    "- __SVM:__ (support vector machines) Nützlich bei hoher Anzahl Samples und Features\n",
    "- __DecisionTreeClassifier:__ Eine der ältestetn Techniken.\n",
    "- __RandomForrestClassifier:__ Basiert auf einer Kombination von verschiedenen Entscheidungsbäumen.\n",
    "- __MultinomialNB:__ Eignet sich für Textklassifikation.\n",
    "- __KNeighborsClassifier:__ Untersucht k der nächsten Nachbarn.\n",
    "- __LogisticRegression:__ Klassifikator auf Basis einer \"S\" geformten Kurve"
   ]
  },
  {
   "cell_type": "code",
   "execution_count": 18,
   "metadata": {},
   "outputs": [],
   "source": [
    "from sklearn.pipeline import Pipeline\n",
    "from sklearn.feature_extraction.text import TfidfTransformer\n",
    "from sklearn.linear_model import SGDClassifier\n",
    "from sklearn.linear_model import LogisticRegression\n",
    "from sklearn.naive_bayes import MultinomialNB\n",
    "from sklearn.neighbors import KNeighborsClassifier\n",
    "from sklearn.ensemble import RandomForestClassifier\n",
    "from sklearn.model_selection import cross_val_score\n",
    "from sklearn import svm\n",
    "from sklearn import tree\n",
    "\n",
    "featureGenerators = [\n",
    "    [('tfidf', TfidfVectorizer())],\n",
    "    [('bow', CountVectorizer(stop_words='english')),\n",
    "     ('tfidf', TfidfTransformer())],\n",
    "    [('bongrams', CountVectorizer(stop_words='english', ngram_range=(1, 3))),\n",
    "     ('tfidf', TfidfTransformer())],\n",
    "]\n",
    "\n",
    "classifiers = [\n",
    "    ('svc', svm.SVC(kernel='linear')),\n",
    "    ('tree', tree.DecisionTreeClassifier()),\n",
    "    ('forest', RandomForestClassifier(n_estimators=50)),\n",
    "    ('mnb', MultinomialNB()),\n",
    "    ('knn', KNeighborsClassifier()),\n",
    "    ('sgd', SGDClassifier(tol=1e-3)),\n",
    "    ('logreg', LogisticRegression(solver='lbfgs', multi_class='auto')),\n",
    "]\n",
    "\n",
    "pipelines = []\n",
    "for fg in featureGenerators:\n",
    "    for clas in classifiers:\n",
    "        pipelines.append(Pipeline([\n",
    "            ('preprocess', Preprocessor()),\n",
    "            *fg,\n",
    "            clas\n",
    "        ]))"
   ]
  },
  {
   "cell_type": "code",
   "execution_count": 19,
   "metadata": {},
   "outputs": [
    {
     "name": "stdout",
     "output_type": "stream",
     "text": [
      "                                 steps  accuracy_score\n",
      "           [preprocess, tfidf, logreg]        0.308955\n",
      "              [preprocess, tfidf, svc]        0.301493\n",
      "              [preprocess, tfidf, sgd]        0.294030\n",
      "      [preprocess, bow, tfidf, logreg]        0.273134\n",
      "         [preprocess, bow, tfidf, svc]        0.268657\n",
      "    [preprocess, bongrams, tfidf, sgd]        0.262687\n",
      "    [preprocess, bongrams, tfidf, svc]        0.258209\n",
      "         [preprocess, bow, tfidf, mnb]        0.256716\n",
      " [preprocess, bongrams, tfidf, logreg]        0.255224\n",
      "         [preprocess, bow, tfidf, sgd]        0.250746\n",
      "      [preprocess, bow, tfidf, forest]        0.241791\n",
      "    [preprocess, bongrams, tfidf, mnb]        0.235821\n",
      "              [preprocess, tfidf, mnb]        0.223881\n",
      " [preprocess, bongrams, tfidf, forest]        0.216418\n",
      "           [preprocess, tfidf, forest]        0.198507\n",
      "              [preprocess, tfidf, knn]        0.143284\n",
      "        [preprocess, bow, tfidf, tree]        0.132836\n",
      "             [preprocess, tfidf, tree]        0.132836\n",
      "   [preprocess, bongrams, tfidf, tree]        0.123881\n",
      "    [preprocess, bongrams, tfidf, knn]        0.113433\n",
      "         [preprocess, bow, tfidf, knn]        0.111940\n"
     ]
    }
   ],
   "source": [
    "scores = pd.DataFrame(columns=['steps','accuracy_score'])\n",
    "\n",
    "for p in pipelines:\n",
    "    p.fit(X_train, y_train)\n",
    "    scores.loc[len(scores)] = [\n",
    "        [step[0] for step in p.steps],\n",
    "        p.score(X_test, y_test)\n",
    "    ]\n",
    "    \n",
    "scores.sort_values(by='accuracy_score', ascending=False, inplace=True)\n",
    "print(scores.to_string(index=False))"
   ]
  },
  {
   "cell_type": "markdown",
   "metadata": {},
   "source": [
    "## Entscheid\n",
    "\n",
    "Die Kombination aus TF-IDF und der logistischen Regression erzielen unter den Testbedingungen (< 50 Klassen) stabil eine hohe Accuracy Score.\n",
    "\n",
    "Die Parameter für den Klassifikator werden mit GridSearchCV getuned."
   ]
  },
  {
   "cell_type": "code",
   "execution_count": 20,
   "metadata": {},
   "outputs": [],
   "source": [
    "from sklearn.model_selection import GridSearchCV\n",
    "from sklearn.pipeline import make_pipeline\n",
    "\n",
    "param_grid = {\n",
    "    'logisticregression__C': [.1, 10, 100],\n",
    "    'logisticregression__solver': ['newton-cg', 'lbfgs', 'liblinear']\n",
    "}\n",
    "logregModel = make_pipeline(\n",
    "    Preprocessor(),\n",
    "    TfidfVectorizer(),\n",
    "    LogisticRegression(multi_class='auto', max_iter=200)\n",
    ")\n",
    "grid = GridSearchCV(logregModel, param_grid, cv=5, n_jobs=-1, return_train_score=True)"
   ]
  },
  {
   "cell_type": "code",
   "execution_count": 21,
   "metadata": {},
   "outputs": [
    {
     "name": "stderr",
     "output_type": "stream",
     "text": [
      "/usr/lib/python3.7/site-packages/sklearn/model_selection/_search.py:841: DeprecationWarning: The default of the `iid` parameter will change from True to False in version 0.22 and will be removed in 0.24. This will change numeric results when test-set sizes are unequal.\n",
      "  DeprecationWarning)\n"
     ]
    },
    {
     "data": {
      "text/plain": [
       "{'logisticregression__C': 10, 'logisticregression__solver': 'newton-cg'}"
      ]
     },
     "execution_count": 21,
     "metadata": {},
     "output_type": "execute_result"
    }
   ],
   "source": [
    "grid.fit(X, y);\n",
    "grid.best_params_"
   ]
  },
  {
   "cell_type": "code",
   "execution_count": 22,
   "metadata": {},
   "outputs": [],
   "source": [
    "model = make_pipeline(\n",
    "    Preprocessor(),\n",
    "    TfidfVectorizer(),\n",
    "    LogisticRegression(multi_class='auto', C=10, solver='newton-cg', max_iter=200)\n",
    ")"
   ]
  },
  {
   "cell_type": "markdown",
   "metadata": {},
   "source": [
    "## Validierung"
   ]
  },
  {
   "cell_type": "code",
   "execution_count": 23,
   "metadata": {},
   "outputs": [
    {
     "name": "stdout",
     "output_type": "stream",
     "text": [
      "                   precision    recall  f1-score   support\n",
      "\n",
      "          Alabama       0.23      0.29      0.26        31\n",
      "          America       0.23      0.28      0.25        29\n",
      "        Bob Dylan       0.24      0.30      0.27        33\n",
      "       Chaka Khan       0.29      0.24      0.26        38\n",
      "             Cher       0.23      0.21      0.22        34\n",
      "    Cliff Richard       0.05      0.06      0.06        33\n",
      "      Dean Martin       0.39      0.33      0.36        46\n",
      "     Donna Summer       0.29      0.25      0.27        40\n",
      "    George Strait       0.29      0.29      0.29        34\n",
      " Gordon Lightfoot       0.34      0.36      0.35        42\n",
      "Hank Williams Jr.       0.50      0.38      0.43        45\n",
      "     Indigo Girls       0.44      0.42      0.43        40\n",
      "      Johnny Cash       0.29      0.25      0.27        40\n",
      "             Kiss       0.39      0.45      0.42        40\n",
      "     Loretta Lynn       0.24      0.22      0.23        41\n",
      "         Nazareth       0.29      0.43      0.34        28\n",
      "       Neil Young       0.39      0.31      0.35        35\n",
      "    Reba Mcentire       0.27      0.27      0.27        41\n",
      "\n",
      "        micro avg       0.30      0.30      0.30       670\n",
      "        macro avg       0.30      0.30      0.29       670\n",
      "     weighted avg       0.31      0.30      0.30       670\n",
      "\n"
     ]
    }
   ],
   "source": [
    "from sklearn.metrics import classification_report\n",
    "\n",
    "model.fit(X_train, y_train)\n",
    "\n",
    "prediction = model.predict(X_test)\n",
    "print(classification_report(y_test, prediction))"
   ]
  },
  {
   "cell_type": "code",
   "execution_count": 24,
   "metadata": {},
   "outputs": [
    {
     "data": {
      "text/plain": [
       "array(['Neil Young'], dtype=object)"
      ]
     },
     "execution_count": 24,
     "metadata": {},
     "output_type": "execute_result"
    }
   ],
   "source": [
    "# Neil Young (Text aus neuem Album, das nicht im Datensatz vorhanden ist.)\n",
    "text = [\"\"\"\n",
    "Up in the rainbow teepee sky No one's looking down on you or I That's just a mirror in your eye\n",
    "Ain't taken my last hit yet I know that things are different now (I see the same old signs, but something new is growing)\n",
    "Don't think I'll cash it in yet Don't think I'll put down my last bet (I'm gonna keep my hand in, because something new is growing)\n",
    "Think I'll hit the Peace Trail Take a trip back home to my old town 'Cause everyone back there says Something new is growing\n",
    "Up in the rainbow teepee sky No one's looking down on you or I It's just a mirror in our eye\n",
    "If I believe in someone I have to believe in myself (I have to take good care when something new is growing)\n",
    "The world is full of changes Sometimes all these changes make me sad (I have to plant them seeds, till something new is growing)\n",
    "I think I'll hit the Peace Trail I know that treasure takes its time (I have to take good care when something new is growing)\n",
    "I think I'll hit the Peace Trail I think I like my chances now (I have to take good care when something new is growing)\n",
    "I think I'll hit the Peace Trail I think I'll hit the Peace Trail now Because something new is growing \n",
    "\"\"\"]\n",
    "model.predict(text)"
   ]
  }
 ],
 "metadata": {
  "kernelspec": {
   "display_name": "Python 3",
   "language": "python",
   "name": "python3"
  },
  "language_info": {
   "codemirror_mode": {
    "name": "ipython",
    "version": 3
   },
   "file_extension": ".py",
   "mimetype": "text/x-python",
   "name": "python",
   "nbconvert_exporter": "python",
   "pygments_lexer": "ipython3",
   "version": "3.7.3"
  }
 },
 "nbformat": 4,
 "nbformat_minor": 2
}
